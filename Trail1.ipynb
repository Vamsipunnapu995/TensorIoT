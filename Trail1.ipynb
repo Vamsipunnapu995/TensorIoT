{
 "cells": [
  {
   "cell_type": "code",
   "execution_count": 24,
   "id": "bfdc2a0a",
   "metadata": {},
   "outputs": [
    {
     "name": "stdout",
     "output_type": "stream",
     "text": [
      "Car with license plate AP61234 parked successfully in spot 13.\n",
      "Car with license plate TS65678 parked successfully in spot 4.\n",
      "Car with license plate GAB9765 could not be parked in spot 13.\n",
      "Car with license plate PJ78664 parked successfully in spot 10.\n",
      "Car with license plate ML77864 could not be parked in spot 13.\n",
      "Car with license plate TN97686 parked successfully in spot 5.\n",
      "Car with license plate KL83564 parked successfully in spot 7.\n",
      "Cars parked successfully.\n"
     ]
    }
   ],
   "source": [
    "import math\n",
    "\n",
    "class ParkingLot:\n",
    "    def __init__(self, square_footage, spot_length=8, spot_width=12):\n",
    "        self.spot_length = spot_length\n",
    "        self.spot_width = spot_width\n",
    "        self.square_footage = square_footage\n",
    "        self.num_spots = self.calculate_num_spots()\n",
    "        self.available_spots = [None] * self.num_spots\n",
    "\n",
    "    def calculate_num_spots(self):\n",
    "        spot_area = self.spot_length * self.spot_width\n",
    "        return math.floor(self.square_footage / spot_area)\n",
    "\n",
    "    def park_car(self, car, spot):\n",
    "        if spot < len(self.available_spots) and self.available_spots[spot] is None:\n",
    "            self.available_spots[spot] = car\n",
    "            return f\"Car with license plate {car.license_plate} parked successfully in spot {spot + 1}.\"\n",
    "        else:\n",
    "            return f\"Car with license plate {car.license_plate} could not be parked in spot {spot + 1}.\"\n",
    "\n",
    "class Car:\n",
    "    def __init__(self, license_plate):\n",
    "        self.license_plate = license_plate\n",
    "\n",
    "    def __str__(self):\n",
    "        return self.license_plate\n",
    "\n",
    "    def park(self, parking_lot, spot):\n",
    "        return parking_lot.park_car(self, spot)\n",
    "\n",
    "def main():\n",
    "    parking_lot_size = 2000\n",
    "    parking_lot = ParkingLot(parking_lot_size)\n",
    "\n",
    "    cars = [Car(\"AP61234\"), Car(\"TS65678\"), Car(\"GAB9765\"), Car(\"PJ78664\"), Car(\"ML77864\"), Car(\"TN97686\"), Car(\"KL83564\")]\n",
    "\n",
    "    while cars and parking_lot.available_spots:\n",
    "        current_car = cars.pop(0)\n",
    "        spot_to_park = math.floor(random.random() * parking_lot.num_spots)\n",
    "        result = current_car.park(parking_lot, spot_to_park)\n",
    "        print(result)\n",
    "\n",
    "    if not cars:\n",
    "        print(\"Cars parked successfully.\")\n",
    "    else:\n",
    "        print(\"Parking lot is full.\")\n",
    "\n",
    "if __name__ == \"__main__\":\n",
    "    main()\n"
   ]
  },
  {
   "cell_type": "code",
   "execution_count": null,
   "id": "a9dbc677",
   "metadata": {},
   "outputs": [],
   "source": []
  }
 ],
 "metadata": {
  "kernelspec": {
   "display_name": "Python 3 (ipykernel)",
   "language": "python",
   "name": "python3"
  },
  "language_info": {
   "codemirror_mode": {
    "name": "ipython",
    "version": 3
   },
   "file_extension": ".py",
   "mimetype": "text/x-python",
   "name": "python",
   "nbconvert_exporter": "python",
   "pygments_lexer": "ipython3",
   "version": "3.9.13"
  }
 },
 "nbformat": 4,
 "nbformat_minor": 5
}
